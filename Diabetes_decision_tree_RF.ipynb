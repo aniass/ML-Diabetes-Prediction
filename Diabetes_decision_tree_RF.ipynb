{
 "cells": [
  {
   "cell_type": "markdown",
   "metadata": {},
   "source": [
    "Predicting the diabetes in a patient using Decision Tree/Random Forest Classifier. The dataset for this project is taken from https://www.kaggle.com/uciml/pima-indians-diabetes-database.\n"
   ]
  },
  {
   "cell_type": "markdown",
   "metadata": {
    "colab_type": "text",
    "id": "Q_nMW-a8GfoD"
   },
   "source": [
    "### Import and preprocess data"
   ]
  },
  {
   "cell_type": "code",
   "execution_count": 1,
   "metadata": {
    "colab": {},
    "colab_type": "code",
    "id": "zkS4U9qfGfoO"
   },
   "outputs": [],
   "source": [
    "import pandas as pd\n",
    "import numpy as np\n",
    "import matplotlib.pyplot as plt\n",
    "%matplotlib inline\n",
    "\n",
    "from sklearn.model_selection import train_test_split\n",
    "from sklearn.tree import DecisionTreeClassifier\n",
    "\n",
    "from io import StringIO\n",
    "from IPython.display import Image  \n",
    "from sklearn.tree import export_graphviz\n",
    "import pydotplus\n",
    "\n",
    "from sklearn import metrics\n",
    "from sklearn.metrics import confusion_matrix, accuracy_score, classification_report\n",
    "from sklearn.model_selection import GridSearchCV\n",
    "from sklearn.ensemble import RandomForestClassifier\n",
    "\n",
    "import pickle"
   ]
  },
  {
   "cell_type": "code",
   "execution_count": 2,
   "metadata": {
    "colab": {
     "base_uri": "https://localhost:8080/",
     "height": 206
    },
    "colab_type": "code",
    "executionInfo": {
     "elapsed": 729,
     "status": "ok",
     "timestamp": 1572195890856,
     "user": {
      "displayName": "Anna Staśkiewicz",
      "photoUrl": "",
      "userId": "13490438346564972102"
     },
     "user_tz": -60
    },
    "id": "EyOf892RGfok",
    "outputId": "3da4bc6e-05b8-44f3-c513-653d644516ae"
   },
   "outputs": [
    {
     "data": {
      "text/html": [
       "<div>\n",
       "<style scoped>\n",
       "    .dataframe tbody tr th:only-of-type {\n",
       "        vertical-align: middle;\n",
       "    }\n",
       "\n",
       "    .dataframe tbody tr th {\n",
       "        vertical-align: top;\n",
       "    }\n",
       "\n",
       "    .dataframe thead th {\n",
       "        text-align: right;\n",
       "    }\n",
       "</style>\n",
       "<table border=\"1\" class=\"dataframe\">\n",
       "  <thead>\n",
       "    <tr style=\"text-align: right;\">\n",
       "      <th></th>\n",
       "      <th>Pregnancies</th>\n",
       "      <th>Glucose</th>\n",
       "      <th>BloodPressure</th>\n",
       "      <th>SkinThickness</th>\n",
       "      <th>Insulin</th>\n",
       "      <th>BMI</th>\n",
       "      <th>DiabetesPedigreeFunction</th>\n",
       "      <th>Age</th>\n",
       "      <th>Outcome</th>\n",
       "    </tr>\n",
       "  </thead>\n",
       "  <tbody>\n",
       "    <tr>\n",
       "      <th>0</th>\n",
       "      <td>6</td>\n",
       "      <td>148</td>\n",
       "      <td>72</td>\n",
       "      <td>35</td>\n",
       "      <td>0</td>\n",
       "      <td>33.6</td>\n",
       "      <td>0.627</td>\n",
       "      <td>50</td>\n",
       "      <td>1</td>\n",
       "    </tr>\n",
       "    <tr>\n",
       "      <th>1</th>\n",
       "      <td>1</td>\n",
       "      <td>85</td>\n",
       "      <td>66</td>\n",
       "      <td>29</td>\n",
       "      <td>0</td>\n",
       "      <td>26.6</td>\n",
       "      <td>0.351</td>\n",
       "      <td>31</td>\n",
       "      <td>0</td>\n",
       "    </tr>\n",
       "    <tr>\n",
       "      <th>2</th>\n",
       "      <td>8</td>\n",
       "      <td>183</td>\n",
       "      <td>64</td>\n",
       "      <td>0</td>\n",
       "      <td>0</td>\n",
       "      <td>23.3</td>\n",
       "      <td>0.672</td>\n",
       "      <td>32</td>\n",
       "      <td>1</td>\n",
       "    </tr>\n",
       "    <tr>\n",
       "      <th>3</th>\n",
       "      <td>1</td>\n",
       "      <td>89</td>\n",
       "      <td>66</td>\n",
       "      <td>23</td>\n",
       "      <td>94</td>\n",
       "      <td>28.1</td>\n",
       "      <td>0.167</td>\n",
       "      <td>21</td>\n",
       "      <td>0</td>\n",
       "    </tr>\n",
       "    <tr>\n",
       "      <th>4</th>\n",
       "      <td>0</td>\n",
       "      <td>137</td>\n",
       "      <td>40</td>\n",
       "      <td>35</td>\n",
       "      <td>168</td>\n",
       "      <td>43.1</td>\n",
       "      <td>2.288</td>\n",
       "      <td>33</td>\n",
       "      <td>1</td>\n",
       "    </tr>\n",
       "  </tbody>\n",
       "</table>\n",
       "</div>"
      ],
      "text/plain": [
       "   Pregnancies  Glucose  BloodPressure  SkinThickness  Insulin   BMI  \\\n",
       "0            6      148             72             35        0  33.6   \n",
       "1            1       85             66             29        0  26.6   \n",
       "2            8      183             64              0        0  23.3   \n",
       "3            1       89             66             23       94  28.1   \n",
       "4            0      137             40             35      168  43.1   \n",
       "\n",
       "   DiabetesPedigreeFunction  Age  Outcome  \n",
       "0                     0.627   50        1  \n",
       "1                     0.351   31        0  \n",
       "2                     0.672   32        1  \n",
       "3                     0.167   21        0  \n",
       "4                     2.288   33        1  "
      ]
     },
     "execution_count": 2,
     "metadata": {},
     "output_type": "execute_result"
    }
   ],
   "source": [
    "data = pd.read_csv('C:\\Python Scripts\\ML_cwiczenia\\diabetes.csv')\n",
    "data.head()"
   ]
  },
  {
   "cell_type": "code",
   "execution_count": 3,
   "metadata": {
    "colab": {
     "base_uri": "https://localhost:8080/",
     "height": 35
    },
    "colab_type": "code",
    "executionInfo": {
     "elapsed": 1115,
     "status": "ok",
     "timestamp": 1572195895549,
     "user": {
      "displayName": "Anna Staśkiewicz",
      "photoUrl": "",
      "userId": "13490438346564972102"
     },
     "user_tz": -60
    },
    "id": "CPg_RW5aGfo2",
    "outputId": "d3f49fd8-7403-4f39-d7bb-9ac0c23aa1e6"
   },
   "outputs": [
    {
     "data": {
      "text/plain": [
       "(768, 9)"
      ]
     },
     "execution_count": 3,
     "metadata": {},
     "output_type": "execute_result"
    }
   ],
   "source": [
    "# number of rows and columns in dataset\n",
    "data.shape"
   ]
  },
  {
   "cell_type": "code",
   "execution_count": 7,
   "metadata": {
    "colab": {
     "base_uri": "https://localhost:8080/",
     "height": 274
    },
    "colab_type": "code",
    "executionInfo": {
     "elapsed": 505,
     "status": "ok",
     "timestamp": 1572195896637,
     "user": {
      "displayName": "Anna Staśkiewicz",
      "photoUrl": "",
      "userId": "13490438346564972102"
     },
     "user_tz": -60
    },
    "id": "e2byyIlQGfpG",
    "outputId": "17e9cb98-29b5-4ef4-d207-a73adef5383f"
   },
   "outputs": [
    {
     "name": "stdout",
     "output_type": "stream",
     "text": [
      "<class 'pandas.core.frame.DataFrame'>\n",
      "RangeIndex: 768 entries, 0 to 767\n",
      "Data columns (total 9 columns):\n",
      "Pregnancies                 768 non-null int64\n",
      "Glucose                     768 non-null int64\n",
      "BloodPressure               768 non-null int64\n",
      "SkinThickness               768 non-null int64\n",
      "Insulin                     768 non-null int64\n",
      "BMI                         768 non-null float64\n",
      "DiabetesPedigreeFunction    768 non-null float64\n",
      "Age                         768 non-null int64\n",
      "Outcome                     768 non-null int64\n",
      "dtypes: float64(2), int64(7)\n",
      "memory usage: 54.1 KB\n"
     ]
    }
   ],
   "source": [
    "data.info()"
   ]
  },
  {
   "cell_type": "code",
   "execution_count": 8,
   "metadata": {
    "colab": {
     "base_uri": "https://localhost:8080/",
     "height": 90
    },
    "colab_type": "code",
    "executionInfo": {
     "elapsed": 702,
     "status": "ok",
     "timestamp": 1572195899562,
     "user": {
      "displayName": "Anna Staśkiewicz",
      "photoUrl": "",
      "userId": "13490438346564972102"
     },
     "user_tz": -60
    },
    "id": "pr0vF0nKGfpZ",
    "outputId": "a41f33ee-b76b-499e-915e-b03185da46c1"
   },
   "outputs": [
    {
     "name": "stdout",
     "output_type": "stream",
     "text": [
      "Outcome\n",
      "0    500\n",
      "1    268\n",
      "dtype: int64\n"
     ]
    }
   ],
   "source": [
    "print(data.groupby('Outcome').size())"
   ]
  },
  {
   "cell_type": "markdown",
   "metadata": {
    "colab_type": "text",
    "id": "grKnNbWVQY3B"
   },
   "source": [
    "“Outcome” is the feature we are going to predict, 0 means \"no diabetes\", 1 means \"diabetes\". Of these 768 data points, 500 are labeled as 0 and 268 as 1."
   ]
  },
  {
   "cell_type": "markdown",
   "metadata": {
    "colab_type": "text",
    "id": "HyqnjjPHGfpo"
   },
   "source": [
    "### Building and training model"
   ]
  },
  {
   "cell_type": "code",
   "execution_count": 9,
   "metadata": {
    "colab": {},
    "colab_type": "code",
    "id": "ds1mhS29Gfpu"
   },
   "outputs": [],
   "source": [
    "# feature selection\n",
    "X = data.drop(columns='Outcome')\n",
    "y = data.loc[:, 'Outcome']"
   ]
  },
  {
   "cell_type": "code",
   "execution_count": 10,
   "metadata": {
    "colab": {
     "base_uri": "https://localhost:8080/",
     "height": 54
    },
    "colab_type": "code",
    "executionInfo": {
     "elapsed": 1009,
     "status": "ok",
     "timestamp": 1572197303963,
     "user": {
      "displayName": "Anna Staśkiewicz",
      "photoUrl": "",
      "userId": "13490438346564972102"
     },
     "user_tz": -60
    },
    "id": "EVdkvZ0zGfp5",
    "outputId": "a104007d-e59f-44f5-fb57-9311547b4c9b"
   },
   "outputs": [
    {
     "name": "stdout",
     "output_type": "stream",
     "text": [
      "Train set: (614, 8) (614,)\n",
      "Test set: (154, 8) (154,)\n"
     ]
    }
   ],
   "source": [
    "# split data\n",
    "X_train, X_test, y_train, y_test = train_test_split(X, y, test_size=0.20, random_state=42, stratify=y)\n",
    "\n",
    "print(\"Train set:\", X_train.shape, y_train.shape)\n",
    "print(\"Test set:\", X_test.shape, y_test.shape)"
   ]
  },
  {
   "cell_type": "markdown",
   "metadata": {
    "colab_type": "text",
    "id": "mzenlHqjGfqI"
   },
   "source": [
    "#### Train model"
   ]
  },
  {
   "cell_type": "code",
   "execution_count": 11,
   "metadata": {
    "colab": {
     "base_uri": "https://localhost:8080/",
     "height": 127
    },
    "colab_type": "code",
    "executionInfo": {
     "elapsed": 658,
     "status": "ok",
     "timestamp": 1572196606633,
     "user": {
      "displayName": "Anna Staśkiewicz",
      "photoUrl": "",
      "userId": "13490438346564972102"
     },
     "user_tz": -60
    },
    "id": "l_q8TgTDGfqN",
    "outputId": "0a03bf92-9fd1-48e2-c07b-48b906397499"
   },
   "outputs": [
    {
     "data": {
      "text/plain": [
       "DecisionTreeClassifier(class_weight=None, criterion='gini', max_depth=None,\n",
       "                       max_features=None, max_leaf_nodes=None,\n",
       "                       min_impurity_decrease=0.0, min_impurity_split=None,\n",
       "                       min_samples_leaf=1, min_samples_split=2,\n",
       "                       min_weight_fraction_leaf=0.0, presort=False,\n",
       "                       random_state=20, splitter='best')"
      ]
     },
     "execution_count": 11,
     "metadata": {},
     "output_type": "execute_result"
    }
   ],
   "source": [
    "tree = DecisionTreeClassifier(random_state=20)\n",
    "tree.fit(X_train, y_train)"
   ]
  },
  {
   "cell_type": "code",
   "execution_count": 12,
   "metadata": {
    "colab": {
     "base_uri": "https://localhost:8080/",
     "height": 109
    },
    "colab_type": "code",
    "executionInfo": {
     "elapsed": 980,
     "status": "ok",
     "timestamp": 1572195910814,
     "user": {
      "displayName": "Anna Staśkiewicz",
      "photoUrl": "",
      "userId": "13490438346564972102"
     },
     "user_tz": -60
    },
    "id": "AfPh_mhJGfqd",
    "outputId": "a62c5db0-48f0-4f12-d653-e25d6da76856"
   },
   "outputs": [
    {
     "name": "stdout",
     "output_type": "stream",
     "text": [
      "[0 0 0 1 0 0 0 1 0 1 1 1 0 0 0 0 1 0 0 0 0 0 0 0 0 0 1 0 1 0 0 0 1 0 1 0 0\n",
      " 0 1 0 0 0 0 0 0 0 0 0 1 1 0 1 1 0 1 0 0 0 0 1 0 1 0 1 0 1 0 0 0 1 0 0 0 1\n",
      " 0 0 0 1 0 0 0 1 0 0 0 0 1 0 0 0 0 0 0 0 0 0 0 0 1 0 0 0 0 0 1 0 1 0 0 0 0\n",
      " 1 0 1 1 0 0 0 0 0 1 0 0 1 0 1 1 0 0 0 0 0 0 1 0 0 0 0 0 0 0 0 0 0 0 0 0 0\n",
      " 0 0 0 0 1 0]\n"
     ]
    }
   ],
   "source": [
    "y_predict = tree.predict(X_test)\n",
    "print(y_predict)"
   ]
  },
  {
   "cell_type": "code",
   "execution_count": 13,
   "metadata": {
    "colab": {
     "base_uri": "https://localhost:8080/",
     "height": 54
    },
    "colab_type": "code",
    "executionInfo": {
     "elapsed": 647,
     "status": "ok",
     "timestamp": 1572195912950,
     "user": {
      "displayName": "Anna Staśkiewicz",
      "photoUrl": "",
      "userId": "13490438346564972102"
     },
     "user_tz": -60
    },
    "id": "0pt2rQH0Gfqo",
    "outputId": "b2e491c1-0dc0-4978-868c-00ad983d056c"
   },
   "outputs": [
    {
     "name": "stdout",
     "output_type": "stream",
     "text": [
      "Accuracy on train: 1.0\n",
      "Accuracy on test: 0.7207792207792207\n"
     ]
    }
   ],
   "source": [
    "print('Accuracy on train: {}'.format(tree.score(X_train, y_train)))\n",
    "print('Accuracy on test: {}'.format(tree.score(X_test, y_test)))"
   ]
  },
  {
   "cell_type": "code",
   "execution_count": 14,
   "metadata": {
    "colab": {
     "base_uri": "https://localhost:8080/",
     "height": 35
    },
    "colab_type": "code",
    "executionInfo": {
     "elapsed": 720,
     "status": "ok",
     "timestamp": 1572195915572,
     "user": {
      "displayName": "Anna Staśkiewicz",
      "photoUrl": "",
      "userId": "13490438346564972102"
     },
     "user_tz": -60
    },
    "id": "jr1nndLOGfq2",
    "outputId": "f830a5ea-98a5-4bd0-e78b-2f85b2d6fdff"
   },
   "outputs": [
    {
     "name": "stdout",
     "output_type": "stream",
     "text": [
      "All nodes in tree: 229\n"
     ]
    }
   ],
   "source": [
    "print(\"All nodes in tree:\", tree.tree_.node_count)"
   ]
  },
  {
   "cell_type": "code",
   "execution_count": 15,
   "metadata": {
    "colab": {
     "base_uri": "https://localhost:8080/",
     "height": 182
    },
    "colab_type": "code",
    "executionInfo": {
     "elapsed": 978,
     "status": "ok",
     "timestamp": 1572195918507,
     "user": {
      "displayName": "Anna Staśkiewicz",
      "photoUrl": "",
      "userId": "13490438346564972102"
     },
     "user_tz": -60
    },
    "id": "UwBuCV7rGfrB",
    "outputId": "084c3ae6-6856-46d6-c179-03cf01903ef7"
   },
   "outputs": [
    {
     "name": "stdout",
     "output_type": "stream",
     "text": [
      "Feature importance:\n"
     ]
    },
    {
     "data": {
      "text/plain": [
       "{'Pregnancies': 0.08036988417061318,\n",
       " 'Glucose': 0.33182942620550915,\n",
       " 'BloodPressure': 0.07964293663359606,\n",
       " 'SkinThickness': 0.017932242990654212,\n",
       " 'Insulin': 0.05454687884077635,\n",
       " 'BMI': 0.1946860793518772,\n",
       " 'DiabetesPedigreeFunction': 0.09625346842588577,\n",
       " 'Age': 0.1447390833810882}"
      ]
     },
     "execution_count": 15,
     "metadata": {},
     "output_type": "execute_result"
    }
   ],
   "source": [
    "print('Feature importance:')\n",
    "dict(zip(X_train.columns, tree.feature_importances_))"
   ]
  },
  {
   "cell_type": "markdown",
   "metadata": {
    "colab_type": "text",
    "id": "mp_i5D70PDZt"
   },
   "source": [
    "You can see that glucose is the most important in the classification"
   ]
  },
  {
   "cell_type": "markdown",
   "metadata": {
    "colab_type": "text",
    "id": "WbOGU2xxPHMu"
   },
   "source": [
    "**Tree visualization**"
   ]
  },
  {
   "cell_type": "code",
   "execution_count": 91,
   "metadata": {
    "colab": {
     "base_uri": "https://localhost:8080/",
     "height": 90
    },
    "colab_type": "code",
    "executionInfo": {
     "elapsed": 675,
     "status": "ok",
     "timestamp": 1572197340458,
     "user": {
      "displayName": "Anna Staśkiewicz",
      "photoUrl": "",
      "userId": "13490438346564972102"
     },
     "user_tz": -60
    },
    "id": "x59KRBZsGfrd",
    "outputId": "51823919-f219-45b1-bca5-f3f2d7068307"
   },
   "outputs": [
    {
     "name": "stdout",
     "output_type": "stream",
     "text": [
      "Features: Index(['Pregnancies', 'Glucose', 'BloodPressure', 'SkinThickness', 'Insulin',\n",
      "       'BMI', 'DiabetesPedigreeFunction', 'Age'],\n",
      "      dtype='object')\n",
      "Class: [1 0]\n"
     ]
    }
   ],
   "source": [
    "#feature names and class names in the set\n",
    "diab_feature_names = X.columns\n",
    "diab_class_names = y.unique()\n",
    "\n",
    "print(\"Features:\", diab_feature_names)\n",
    "print(\"Class:\", diab_class_names)"
   ]
  },
  {
   "cell_type": "code",
   "execution_count": 83,
   "metadata": {
    "colab": {
     "base_uri": "https://localhost:8080/",
     "height": 319
    },
    "colab_type": "code",
    "executionInfo": {
     "elapsed": 5154,
     "status": "ok",
     "timestamp": 1572196654720,
     "user": {
      "displayName": "Anna Staśkiewicz",
      "photoUrl": "",
      "userId": "13490438346564972102"
     },
     "user_tz": -60
    },
    "id": "ny5G4_RMGfrm",
    "outputId": "5f2e1d13-079f-47e0-c9c7-1d49823bd9c9"
   },
   "outputs": [
    {
     "data": {
      "image/png": "[encoded data removed]",
      "text/plain": [
       "<IPython.core.display.Image object>"
      ]
     },
     "execution_count": 83,
     "metadata": {
      "tags": []
     },
     "output_type": "execute_result"
    }
   ],
   "source": [
    "dot_data = StringIO()\n",
    "export_graphviz(\n",
    "    tree, \n",
    "    out_file=dot_data, \n",
    "    filled=True, \n",
    "    rounded=True, \n",
    "    special_characters=True, \n",
    "    feature_names=diab_feature_names, \n",
    "    class_names=['diabetes', 'no diabetes']) \n",
    "    \n",
    "graph = pydotplus.graph_from_dot_data(dot_data.getvalue()) \n",
    "graph.write_png('diabetes.png')\n",
    "graph.set_size('\"10,7!\"')\n",
    "Image(graph.create_png())"
   ]
  },
  {
   "cell_type": "markdown",
   "metadata": {
    "colab_type": "text",
    "id": "nAKc4tiKGfrz"
   },
   "source": [
    "### Confusion matrix"
   ]
  },
  {
   "cell_type": "code",
   "execution_count": 16,
   "metadata": {
    "colab": {
     "base_uri": "https://localhost:8080/",
     "height": 72
    },
    "colab_type": "code",
    "executionInfo": {
     "elapsed": 626,
     "status": "ok",
     "timestamp": 1572196705354,
     "user": {
      "displayName": "Anna Staśkiewicz",
      "photoUrl": "",
      "userId": "13490438346564972102"
     },
     "user_tz": -60
    },
    "id": "VBW8uckPGfr3",
    "outputId": "519e74e7-aa9c-4ae4-be87-5127cb9419ac"
   },
   "outputs": [
    {
     "name": "stdout",
     "output_type": "stream",
     "text": [
      "[[87 13]\n",
      " [30 24]]\n",
      "Accuracy: 0.7207792207792207\n"
     ]
    }
   ],
   "source": [
    "cm = confusion_matrix(y_test, y_predict)\n",
    "print(cm)\n",
    "\n",
    "print('Accuracy:', accuracy_score(y_test, y_predict))"
   ]
  },
  {
   "cell_type": "code",
   "execution_count": 17,
   "metadata": {
    "colab": {
     "base_uri": "https://localhost:8080/",
     "height": 182
    },
    "colab_type": "code",
    "executionInfo": {
     "elapsed": 1082,
     "status": "ok",
     "timestamp": 1572195978484,
     "user": {
      "displayName": "Anna Staśkiewicz",
      "photoUrl": "",
      "userId": "13490438346564972102"
     },
     "user_tz": -60
    },
    "id": "YJyfcAxfGfsA",
    "outputId": "d971417d-e5cc-4bc7-b261-4ca28009d87b"
   },
   "outputs": [
    {
     "name": "stdout",
     "output_type": "stream",
     "text": [
      "              precision    recall  f1-score   support\n",
      "\n",
      "           0       0.74      0.87      0.80       100\n",
      "           1       0.65      0.44      0.53        54\n",
      "\n",
      "    accuracy                           0.72       154\n",
      "   macro avg       0.70      0.66      0.66       154\n",
      "weighted avg       0.71      0.72      0.71       154\n",
      "\n"
     ]
    }
   ],
   "source": [
    "print(classification_report(y_test, y_predict))"
   ]
  },
  {
   "cell_type": "markdown",
   "metadata": {
    "colab_type": "text",
    "id": "EjEBitKmGfsL"
   },
   "source": [
    "### GridSearch"
   ]
  },
  {
   "cell_type": "code",
   "execution_count": 18,
   "metadata": {
    "colab": {
     "base_uri": "https://localhost:8080/",
     "height": 35
    },
    "colab_type": "code",
    "executionInfo": {
     "elapsed": 4143,
     "status": "ok",
     "timestamp": 1572196747931,
     "user": {
      "displayName": "Anna Staśkiewicz",
      "photoUrl": "",
      "userId": "13490438346564972102"
     },
     "user_tz": -60
    },
    "id": "HqAMVsuEGfsN",
    "outputId": "96901609-aa06-44ae-f56a-8693b7f30f70"
   },
   "outputs": [
    {
     "data": {
      "text/plain": [
       "{'criterion': 'gini', 'max_depth': 5, 'min_samples_split': 50}"
      ]
     },
     "execution_count": 18,
     "metadata": {},
     "output_type": "execute_result"
    }
   ],
   "source": [
    "tree = DecisionTreeClassifier()\n",
    "\n",
    "param_grid = {\n",
    "    'criterion' : ['gini', 'entropy'],\n",
    "    'min_samples_split' : [10, 30, 50, 50],\n",
    "    'max_depth' : [5,10,15]\n",
    "}\n",
    "\n",
    "grid = GridSearchCV(tree, param_grid, cv=5, scoring='accuracy')\n",
    "\n",
    "grid.fit(X_train, y_train)\n",
    "\n",
    "grid.best_params_"
   ]
  },
  {
   "cell_type": "code",
   "execution_count": 19,
   "metadata": {
    "colab": {
     "base_uri": "https://localhost:8080/",
     "height": 35
    },
    "colab_type": "code",
    "executionInfo": {
     "elapsed": 2604,
     "status": "ok",
     "timestamp": 1572196101087,
     "user": {
      "displayName": "Anna Staśkiewicz",
      "photoUrl": "",
      "userId": "13490438346564972102"
     },
     "user_tz": -60
    },
    "id": "f8PffPWtGfsX",
    "outputId": "04b480ab-c499-42d9-aa70-3addfcebf284"
   },
   "outputs": [
    {
     "data": {
      "text/plain": [
       "0.739413680781759"
      ]
     },
     "execution_count": 19,
     "metadata": {},
     "output_type": "execute_result"
    }
   ],
   "source": [
    "grid.best_score_"
   ]
  },
  {
   "cell_type": "code",
   "execution_count": 20,
   "metadata": {
    "colab": {
     "base_uri": "https://localhost:8080/",
     "height": 35
    },
    "colab_type": "code",
    "executionInfo": {
     "elapsed": 614,
     "status": "ok",
     "timestamp": 1572196103898,
     "user": {
      "displayName": "Anna Staśkiewicz",
      "photoUrl": "",
      "userId": "13490438346564972102"
     },
     "user_tz": -60
    },
    "id": "O-ni7lbMGfsg",
    "outputId": "e0b4d595-e03a-47e2-dc30-44b695eb14ed"
   },
   "outputs": [
    {
     "data": {
      "text/plain": [
       "0.8029315960912052"
      ]
     },
     "execution_count": 20,
     "metadata": {},
     "output_type": "execute_result"
    }
   ],
   "source": [
    "grid.score(X_train, y_train)"
   ]
  },
  {
   "cell_type": "code",
   "execution_count": 21,
   "metadata": {
    "colab": {
     "base_uri": "https://localhost:8080/",
     "height": 35
    },
    "colab_type": "code",
    "executionInfo": {
     "elapsed": 785,
     "status": "ok",
     "timestamp": 1572196104962,
     "user": {
      "displayName": "Anna Staśkiewicz",
      "photoUrl": "",
      "userId": "13490438346564972102"
     },
     "user_tz": -60
    },
    "id": "wNPTmKtVGfsr",
    "outputId": "7c9e4ae5-1d75-41b1-add3-57090466f61a"
   },
   "outputs": [
    {
     "data": {
      "text/plain": [
       "0.7987012987012987"
      ]
     },
     "execution_count": 21,
     "metadata": {},
     "output_type": "execute_result"
    }
   ],
   "source": [
    "grid.score(X_test, y_test)"
   ]
  },
  {
   "cell_type": "code",
   "execution_count": 22,
   "metadata": {},
   "outputs": [
    {
     "data": {
      "text/plain": [
       "array([1, 0, 0, 1, 0, 0, 0, 1, 0, 1, 0, 0, 0, 0, 0, 1, 1, 0, 1, 0, 0, 0,\n",
       "       0, 1, 1, 0, 1, 0, 1, 0, 0, 0, 0, 0, 0, 0, 0, 0, 0, 1, 0, 0, 0, 1,\n",
       "       0, 1, 0, 0, 1, 0, 0, 1, 0, 0, 1, 0, 1, 0, 1, 0, 1, 0, 0, 1, 0, 1,\n",
       "       1, 0, 0, 1, 0, 0, 0, 1, 0, 0, 0, 1, 0, 0, 0, 0, 0, 0, 1, 0, 1, 0,\n",
       "       0, 0, 1, 1, 0, 0, 1, 1, 0, 1, 1, 0, 0, 0, 0, 0, 1, 0, 1, 0, 0, 0,\n",
       "       0, 1, 1, 1, 0, 0, 0, 0, 1, 0, 0, 0, 0, 1, 0, 1, 1, 0, 0, 0, 0, 0,\n",
       "       0, 1, 1, 0, 0, 0, 0, 0, 0, 0, 0, 0, 0, 0, 0, 1, 0, 0, 0, 0, 1, 0],\n",
       "      dtype=int64)"
      ]
     },
     "execution_count": 22,
     "metadata": {},
     "output_type": "execute_result"
    }
   ],
   "source": [
    "grid.predict(X_test)"
   ]
  },
  {
   "cell_type": "markdown",
   "metadata": {
    "colab_type": "text",
    "id": "8RH_fiYSGfs1"
   },
   "source": [
    "### Random Forest\n",
    "\n",
    "Random Forest creates a set of trees with less complexity, and predictions are made based on voting."
   ]
  },
  {
   "cell_type": "code",
   "execution_count": 23,
   "metadata": {
    "colab": {
     "base_uri": "https://localhost:8080/",
     "height": 146
    },
    "colab_type": "code",
    "executionInfo": {
     "elapsed": 777,
     "status": "ok",
     "timestamp": 1572196831336,
     "user": {
      "displayName": "Anna Staśkiewicz",
      "photoUrl": "",
      "userId": "13490438346564972102"
     },
     "user_tz": -60
    },
    "id": "wEMazOpZGfs4",
    "outputId": "d9c3582d-5545-4168-a83c-f90912bd6207"
   },
   "outputs": [
    {
     "data": {
      "text/plain": [
       "RandomForestClassifier(bootstrap=True, class_weight=None, criterion='gini',\n",
       "                       max_depth=None, max_features='auto', max_leaf_nodes=None,\n",
       "                       min_impurity_decrease=0.0, min_impurity_split=None,\n",
       "                       min_samples_leaf=1, min_samples_split=2,\n",
       "                       min_weight_fraction_leaf=0.0, n_estimators=200,\n",
       "                       n_jobs=None, oob_score=False, random_state=0, verbose=0,\n",
       "                       warm_start=False)"
      ]
     },
     "execution_count": 23,
     "metadata": {},
     "output_type": "execute_result"
    }
   ],
   "source": [
    "clrf = RandomForestClassifier(n_estimators=200, random_state=0)\n",
    "clrf.fit(X_train, y_train)"
   ]
  },
  {
   "cell_type": "code",
   "execution_count": 24,
   "metadata": {
    "colab": {
     "base_uri": "https://localhost:8080/",
     "height": 146
    },
    "colab_type": "code",
    "executionInfo": {
     "elapsed": 1001,
     "status": "ok",
     "timestamp": 1572196112620,
     "user": {
      "displayName": "Anna Staśkiewicz",
      "photoUrl": "",
      "userId": "13490438346564972102"
     },
     "user_tz": -60
    },
    "id": "HkbumnaMGftH",
    "outputId": "054e5448-95b9-4a83-d731-2bbd2133e8cc"
   },
   "outputs": [
    {
     "data": {
      "text/plain": [
       "array([1, 0, 0, 0, 0, 0, 0, 1, 0, 1, 1, 1, 0, 0, 0, 0, 1, 0, 1, 0, 0, 1,\n",
       "       0, 1, 0, 0, 1, 0, 1, 0, 0, 0, 1, 0, 1, 0, 0, 0, 1, 0, 1, 0, 0, 0,\n",
       "       0, 0, 0, 0, 1, 0, 0, 1, 0, 0, 1, 0, 1, 0, 1, 0, 1, 0, 0, 1, 0, 0,\n",
       "       1, 0, 0, 1, 0, 0, 0, 1, 0, 0, 0, 1, 0, 0, 0, 0, 0, 0, 0, 0, 0, 0,\n",
       "       0, 0, 1, 1, 0, 0, 0, 1, 1, 1, 1, 0, 0, 0, 0, 0, 1, 0, 1, 0, 1, 0,\n",
       "       0, 1, 1, 0, 0, 0, 0, 0, 1, 0, 1, 0, 0, 1, 0, 1, 1, 1, 0, 0, 0, 1,\n",
       "       0, 1, 1, 0, 0, 0, 0, 0, 0, 0, 0, 0, 0, 0, 0, 1, 0, 0, 0, 0, 1, 0],\n",
       "      dtype=int64)"
      ]
     },
     "execution_count": 24,
     "metadata": {},
     "output_type": "execute_result"
    }
   ],
   "source": [
    "pred = clrf.predict(X_test)\n",
    "pred"
   ]
  },
  {
   "cell_type": "code",
   "execution_count": 25,
   "metadata": {
    "colab": {
     "base_uri": "https://localhost:8080/",
     "height": 54
    },
    "colab_type": "code",
    "executionInfo": {
     "elapsed": 958,
     "status": "ok",
     "timestamp": 1572196110802,
     "user": {
      "displayName": "Anna Staśkiewicz",
      "photoUrl": "",
      "userId": "13490438346564972102"
     },
     "user_tz": -60
    },
    "id": "HTXxAb2QGftA",
    "outputId": "d7cd215f-7884-4cd9-c019-e122e1fc5160"
   },
   "outputs": [
    {
     "name": "stdout",
     "output_type": "stream",
     "text": [
      "Accuracy on train data:1.0\n",
      "Accuracy on test data:0.7402597402597403\n"
     ]
    }
   ],
   "source": [
    "print('Accuracy on train data:{}'.format(clrf.score(X_train, y_train)))\n",
    "print('Accuracy on test data:{}'.format(clrf.score(X_test, y_test)))"
   ]
  },
  {
   "cell_type": "markdown",
   "metadata": {},
   "source": [
    "### Significance of variables"
   ]
  },
  {
   "cell_type": "code",
   "execution_count": 29,
   "metadata": {},
   "outputs": [
    {
     "data": {
      "text/plain": [
       "array([0.08530699, 0.25944288, 0.08675297, 0.07378949, 0.07793076,\n",
       "       0.16048623, 0.12178888, 0.1345018 ])"
      ]
     },
     "execution_count": 29,
     "metadata": {},
     "output_type": "execute_result"
    }
   ],
   "source": [
    "clrf.feature_importances_"
   ]
  },
  {
   "cell_type": "code",
   "execution_count": 30,
   "metadata": {},
   "outputs": [
    {
     "data": {
      "text/plain": [
       "<matplotlib.axes._subplots.AxesSubplot at 0x2079cfbc0b8>"
      ]
     },
     "execution_count": 30,
     "metadata": {},
     "output_type": "execute_result"
    },
    {
     "data": {
      "image/png": "[encoded data removed]",
      "text/plain": [
       "<Figure size 432x288 with 1 Axes>"
      ]
     },
     "metadata": {
      "needs_background": "light"
     },
     "output_type": "display_data"
    }
   ],
   "source": [
    "importance = pd.Series(clrf.feature_importances_, index=X_train.columns)\n",
    "importance.plot(kind='barh')"
   ]
  },
  {
   "cell_type": "markdown",
   "metadata": {},
   "source": [
    "It can be seen that the most important variable is glucose."
   ]
  },
  {
   "cell_type": "markdown",
   "metadata": {},
   "source": [
    "### Conclusion"
   ]
  },
  {
   "cell_type": "markdown",
   "metadata": {},
   "source": [
    "By using Grid Search classifier we got best score/accuracy of 0.739 and by using Random Forest the accurcy was 0.74. In both cases it was about 74%.\n",
    "\n",
    "##### Algorithm comparison\n",
    "Accuracy:\n",
    "* Logistic regression: 80%\n",
    "* KNN: 76%\n",
    "* Decision tree/Random Forest: 74%\n",
    "\n",
    "In comparison of three algorithms the best accuracy was obtained in a logistic regression.\n"
   ]
  },
  {
   "cell_type": "markdown",
   "metadata": {
    "colab_type": "text",
    "id": "S1_VgPe-Ngvb"
   },
   "source": [
    "**Save the model**"
   ]
  },
  {
   "cell_type": "code",
   "execution_count": 31,
   "metadata": {
    "colab": {},
    "colab_type": "code",
    "id": "OO1KWubKGftq"
   },
   "outputs": [],
   "source": [
    "model = tree"
   ]
  },
  {
   "cell_type": "code",
   "execution_count": 32,
   "metadata": {
    "colab": {},
    "colab_type": "code",
    "id": "DNbtiX6LM6c0"
   },
   "outputs": [],
   "source": [
    "with open(\"model.pkl\", \"wb\") as model_file:\n",
    "    pickle.dump(model, model_file)"
   ]
  },
  {
   "cell_type": "code",
   "execution_count": 33,
   "metadata": {
    "colab": {},
    "colab_type": "code",
    "id": "cTLFgggPM_Po"
   },
   "outputs": [],
   "source": [
    "with open(\"model.pkl\", \"rb\") as model_file:\n",
    "    unpickled_model = pickle.load(model_file)\n",
    "    unpickled_model"
   ]
  },
  {
   "cell_type": "code",
   "execution_count": 34,
   "metadata": {
    "colab": {},
    "colab_type": "code",
    "id": "ayzdOjWTNCky"
   },
   "outputs": [],
   "source": [
    "tree = unpickled_model"
   ]
  }
 ],
 "metadata": {
  "colab": {
   "collapsed_sections": [],
   "name": "Diabetes_decision_tree_RF.ipynb",
   "provenance": [],
   "toc_visible": true
  },
  "kernelspec": {
   "display_name": "Python 3",
   "language": "python",
   "name": "python3"
  },
  "language_info": {
   "codemirror_mode": {
    "name": "ipython",
    "version": 3
   },
   "file_extension": ".py",
   "mimetype": "text/x-python",
   "name": "python",
   "nbconvert_exporter": "python",
   "pygments_lexer": "ipython3",
   "version": "3.6.7"
  }
 },
 "nbformat": 4,
 "nbformat_minor": 1
}
